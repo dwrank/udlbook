{
 "cells": [
  {
   "cell_type": "markdown",
   "metadata": {
    "colab_type": "text",
    "id": "view-in-github"
   },
   "source": [
    "<a href=\"https://colab.research.google.com/github/udlbook/udlbook/blob/main/Notebooks/Chap10/10_2_Convolution_for_MNIST_1D.ipynb\" target=\"_parent\"><img src=\"https://colab.research.google.com/assets/colab-badge.svg\" alt=\"Open In Colab\"/></a>"
   ]
  },
  {
   "cell_type": "markdown",
   "metadata": {
    "id": "t9vk9Elugvmi"
   },
   "source": [
    "# **Notebook 10.2: Convolution for MNIST-1D**\n",
    "\n",
    "This notebook investigates a 1D convolutional network for MNIST-1D as in figure 10.7 and 10.8a.\n",
    "\n",
    "Work through the cells below, running each cell in turn. In various places you will see the words \"TO DO\". Follow the instructions at these places and make predictions about what is going to happen or write code to complete the functions.\n",
    "\n",
    "Contact me at udlbookmail@gmail.com if you find any mistakes or have any suggestions.\n",
    "\n"
   ]
  },
  {
   "cell_type": "code",
   "execution_count": 1,
   "metadata": {
    "id": "D5yLObtZCi9J"
   },
   "outputs": [],
   "source": [
    "# Run this if you're in a Colab to make a local copy of the MNIST 1D repository\n",
    "#!git clone https://github.com/greydanus/mnist1d"
   ]
  },
  {
   "cell_type": "code",
   "execution_count": 2,
   "metadata": {
    "id": "YrXWAH7sUWvU",
    "tags": []
   },
   "outputs": [],
   "source": [
    "import os\n",
    "import torch, torch.nn as nn\n",
    "from torch.utils.data import TensorDataset, DataLoader\n",
    "from torch.optim.lr_scheduler import StepLR\n",
    "import numpy as np\n",
    "import matplotlib.pyplot as plt\n",
    "import mnist1d\n",
    "import random"
   ]
  },
  {
   "cell_type": "code",
   "execution_count": 3,
   "metadata": {
    "id": "twI72ZCrCt5z",
    "tags": []
   },
   "outputs": [
    {
     "name": "stdout",
     "output_type": "stream",
     "text": [
      "Successfully loaded data from ./mnist1d_data.pkl\n",
      "Examples in training set: 4000\n",
      "Examples in test set: 1000\n",
      "Length of each example: 40\n"
     ]
    }
   ],
   "source": [
    "args = mnist1d.data.get_dataset_args()\n",
    "data = mnist1d.data.get_dataset(args, path='./mnist1d_data.pkl', download=False, regenerate=False)\n",
    "\n",
    "# The training and test input and outputs are in\n",
    "# data['x'], data['y'], data['x_test'], and data['y_test']\n",
    "print(\"Examples in training set: {}\".format(len(data['y'])))\n",
    "print(\"Examples in test set: {}\".format(len(data['y_test'])))\n",
    "print(\"Length of each example: {}\".format(data['x'].shape[-1]))"
   ]
  },
  {
   "cell_type": "code",
   "execution_count": 4,
   "metadata": {
    "id": "8bKADvLHbiV5"
   },
   "outputs": [
    {
     "name": "stdout",
     "output_type": "stream",
     "text": [
      "Train data: 4000 examples (columns), each of which has 40 dimensions (rows)\n",
      "Validation data: 1000 examples (columns), each of which has 40 dimensions (rows)\n"
     ]
    }
   ],
   "source": [
    "# Load in the data\n",
    "train_data_x = data['x'].transpose()\n",
    "train_data_y = data['y']\n",
    "val_data_x = data['x_test'].transpose()\n",
    "val_data_y = data['y_test']\n",
    "# Print out sizes\n",
    "print(\"Train data: %d examples (columns), each of which has %d dimensions (rows)\"%((train_data_x.shape[1],train_data_x.shape[0])))\n",
    "print(\"Validation data: %d examples (columns), each of which has %d dimensions (rows)\"%((val_data_x.shape[1],val_data_x.shape[0])))"
   ]
  },
  {
   "cell_type": "markdown",
   "metadata": {
    "id": "_sFvRDGrl4qe"
   },
   "source": [
    "Define the network"
   ]
  },
  {
   "cell_type": "code",
   "execution_count": 5,
   "metadata": {
    "id": "FslroPJJffrh"
   },
   "outputs": [],
   "source": [
    "# There are 40 input dimensions and 10 output dimensions for this data\n",
    "# The inputs correspond to the 40 offsets in the MNIST1D template.\n",
    "D_i = 40\n",
    "# The outputs correspond to the 10 digits\n",
    "D_o = 10\n",
    "\n",
    "\n",
    "# TODO Create a model with the following layers\n",
    "# 1. Convolutional layer, (input=length 40 and 1 channel, kernel size 3, stride 2, padding=\"valid\", 15 output channels )\n",
    "# 2. ReLU\n",
    "# 3. Convolutional layer, (input=length 19 and 15 channels, kernel size 3, stride 2, padding=\"valid\", 15 output channels )\n",
    "# 4. ReLU\n",
    "# 5. Convolutional layer, (input=length 9 and 15 channels, kernel size 3, stride 2, padding=\"valid\", 15 output channels)\n",
    "# 6. ReLU\n",
    "# 7. Flatten (converts 4x15) to length 60\n",
    "# 8. Linear layer (input size = 60, output size = 10)\n",
    "# References:\n",
    "# https://pytorch.org/docs/1.13/generated/torch.nn.Conv1d.html?highlight=conv1d#torch.nn.Conv1d\n",
    "# https://pytorch.org/docs/stable/generated/torch.nn.Flatten.html\n",
    "# https://pytorch.org/docs/1.13/generated/torch.nn.Linear.html?highlight=linear#torch.nn.Linear\n",
    "\n",
    "# NOTE THAT THE CONVOLUTIONAL LAYERS NEED TO TAKE THE NUMBER OF INPUT CHANNELS AS A PARAMETER\n",
    "# AND NOT THE INPUT SIZE.\n",
    "\n",
    "# Replace the following function:\n",
    "model = nn.Sequential(\n",
    "    nn.Conv1d(in_channels=1, out_channels=15, kernel_size=3, stride=2, padding='valid'),\n",
    "    nn.ReLU(),\n",
    "    nn.Conv1d(in_channels=15, out_channels=15, kernel_size=3, stride=2, padding='valid'),\n",
    "    nn.ReLU(),\n",
    "    nn.Conv1d(in_channels=15, out_channels=15, kernel_size=3, stride=2, padding='valid'),\n",
    "    nn.ReLU(),\n",
    "    nn.Flatten(),\n",
    "    nn.Linear(60, 10)\n",
    ")"
   ]
  },
  {
   "cell_type": "code",
   "execution_count": 6,
   "metadata": {
    "id": "YgLaex1pfhqz"
   },
   "outputs": [],
   "source": [
    "# He initialization of weights\n",
    "def weights_init(layer_in):\n",
    "  if isinstance(layer_in, nn.Linear):\n",
    "    nn.init.kaiming_uniform_(layer_in.weight)\n",
    "    layer_in.bias.data.fill_(0.0)"
   ]
  },
  {
   "cell_type": "code",
   "execution_count": 7,
   "metadata": {
    "id": "NYw8I_3mmX5c"
   },
   "outputs": [
    {
     "name": "stdout",
     "output_type": "stream",
     "text": [
      "Epoch     0, train loss 2.119623, train error 81.15,  val loss 2.125849, percent error 81.90\n",
      "Epoch     1, train loss 1.602976, train error 64.47,  val loss 1.638941, percent error 66.60\n",
      "Epoch     2, train loss 1.439912, train error 57.95,  val loss 1.450834, percent error 60.80\n",
      "Epoch     3, train loss 1.276413, train error 50.85,  val loss 1.296825, percent error 55.60\n",
      "Epoch     4, train loss 1.196812, train error 48.88,  val loss 1.213655, percent error 51.90\n",
      "Epoch     5, train loss 1.175661, train error 47.78,  val loss 1.199635, percent error 51.30\n",
      "Epoch     6, train loss 1.115188, train error 44.50,  val loss 1.121306, percent error 45.90\n",
      "Epoch     7, train loss 0.922641, train error 36.60,  val loss 0.963246, percent error 39.60\n",
      "Epoch     8, train loss 0.913136, train error 37.60,  val loss 0.955424, percent error 38.90\n",
      "Epoch     9, train loss 0.767415, train error 31.10,  val loss 0.807807, percent error 33.00\n",
      "Epoch    10, train loss 0.750553, train error 30.28,  val loss 0.783803, percent error 30.80\n",
      "Epoch    11, train loss 0.671841, train error 26.38,  val loss 0.720351, percent error 29.20\n",
      "Epoch    12, train loss 0.670216, train error 27.40,  val loss 0.743188, percent error 30.40\n",
      "Epoch    13, train loss 0.616793, train error 24.32,  val loss 0.674494, percent error 26.90\n",
      "Epoch    14, train loss 0.591195, train error 22.82,  val loss 0.704197, percent error 28.50\n",
      "Epoch    15, train loss 0.527920, train error 20.22,  val loss 0.666149, percent error 25.60\n",
      "Epoch    16, train loss 0.459244, train error 17.15,  val loss 0.595785, percent error 22.40\n",
      "Epoch    17, train loss 0.614475, train error 22.38,  val loss 0.758179, percent error 26.80\n",
      "Epoch    18, train loss 0.372783, train error 13.20,  val loss 0.491585, percent error 17.70\n",
      "Epoch    19, train loss 0.334993, train error 11.32,  val loss 0.443915, percent error 15.90\n",
      "Epoch    20, train loss 0.270946, train error 9.28,  val loss 0.407951, percent error 14.60\n",
      "Epoch    21, train loss 0.239233, train error 7.93,  val loss 0.373912, percent error 12.60\n",
      "Epoch    22, train loss 0.223777, train error 8.03,  val loss 0.360496, percent error 12.20\n",
      "Epoch    23, train loss 0.212066, train error 7.65,  val loss 0.358220, percent error 12.50\n",
      "Epoch    24, train loss 0.192494, train error 6.85,  val loss 0.369370, percent error 12.80\n",
      "Epoch    25, train loss 0.232616, train error 8.25,  val loss 0.397765, percent error 12.40\n",
      "Epoch    26, train loss 0.193221, train error 7.03,  val loss 0.370422, percent error 13.20\n",
      "Epoch    27, train loss 0.162301, train error 5.62,  val loss 0.336554, percent error 10.70\n",
      "Epoch    28, train loss 0.182127, train error 6.15,  val loss 0.360911, percent error 12.30\n",
      "Epoch    29, train loss 0.151974, train error 5.53,  val loss 0.334203, percent error 11.00\n",
      "Epoch    30, train loss 0.142407, train error 4.68,  val loss 0.336943, percent error 10.50\n",
      "Epoch    31, train loss 0.158850, train error 5.60,  val loss 0.369380, percent error 12.10\n",
      "Epoch    32, train loss 0.140769, train error 4.90,  val loss 0.348754, percent error 11.50\n",
      "Epoch    33, train loss 0.132266, train error 4.18,  val loss 0.351805, percent error 11.90\n",
      "Epoch    34, train loss 0.131839, train error 4.82,  val loss 0.362378, percent error 11.50\n",
      "Epoch    35, train loss 0.126876, train error 4.22,  val loss 0.360924, percent error 11.30\n",
      "Epoch    36, train loss 0.113479, train error 4.12,  val loss 0.326640, percent error 10.70\n",
      "Epoch    37, train loss 0.108189, train error 3.65,  val loss 0.346572, percent error 11.10\n",
      "Epoch    38, train loss 0.108868, train error 3.60,  val loss 0.350683, percent error 11.00\n",
      "Epoch    39, train loss 0.113282, train error 4.03,  val loss 0.364589, percent error 11.50\n",
      "Epoch    40, train loss 0.083230, train error 2.50,  val loss 0.348813, percent error 10.50\n",
      "Epoch    41, train loss 0.076694, train error 2.18,  val loss 0.345700, percent error 10.60\n",
      "Epoch    42, train loss 0.073299, train error 1.82,  val loss 0.350682, percent error 10.90\n",
      "Epoch    43, train loss 0.075397, train error 2.10,  val loss 0.337247, percent error 10.20\n",
      "Epoch    44, train loss 0.072724, train error 2.12,  val loss 0.346811, percent error 10.50\n",
      "Epoch    45, train loss 0.069944, train error 1.75,  val loss 0.352668, percent error 10.00\n",
      "Epoch    46, train loss 0.074236, train error 2.12,  val loss 0.361572, percent error 10.80\n",
      "Epoch    47, train loss 0.064276, train error 1.72,  val loss 0.341264, percent error 10.40\n",
      "Epoch    48, train loss 0.061402, train error 1.43,  val loss 0.351014, percent error 10.10\n",
      "Epoch    49, train loss 0.065138, train error 1.80,  val loss 0.367996, percent error 10.40\n",
      "Epoch    50, train loss 0.060182, train error 1.50,  val loss 0.365205, percent error 10.90\n",
      "Epoch    51, train loss 0.060216, train error 1.40,  val loss 0.372239, percent error 10.80\n",
      "Epoch    52, train loss 0.060858, train error 1.38,  val loss 0.373418, percent error 10.10\n",
      "Epoch    53, train loss 0.058462, train error 1.40,  val loss 0.379791, percent error 10.50\n",
      "Epoch    54, train loss 0.058056, train error 1.53,  val loss 0.373290, percent error 10.10\n",
      "Epoch    55, train loss 0.056054, train error 1.32,  val loss 0.385269, percent error 10.80\n",
      "Epoch    56, train loss 0.054754, train error 1.38,  val loss 0.386615, percent error 10.60\n",
      "Epoch    57, train loss 0.050611, train error 1.18,  val loss 0.376225, percent error 10.80\n",
      "Epoch    58, train loss 0.051213, train error 1.18,  val loss 0.385778, percent error 11.00\n",
      "Epoch    59, train loss 0.049421, train error 1.05,  val loss 0.388231, percent error 10.60\n",
      "Epoch    60, train loss 0.050424, train error 1.15,  val loss 0.383957, percent error 11.20\n",
      "Epoch    61, train loss 0.048577, train error 1.03,  val loss 0.401270, percent error 10.70\n",
      "Epoch    62, train loss 0.047603, train error 1.00,  val loss 0.384317, percent error 10.20\n",
      "Epoch    63, train loss 0.045653, train error 0.82,  val loss 0.400410, percent error 11.00\n",
      "Epoch    64, train loss 0.044828, train error 0.80,  val loss 0.402908, percent error 10.90\n",
      "Epoch    65, train loss 0.043059, train error 0.82,  val loss 0.388239, percent error 10.50\n",
      "Epoch    66, train loss 0.043095, train error 0.90,  val loss 0.392445, percent error 10.80\n",
      "Epoch    67, train loss 0.042360, train error 0.78,  val loss 0.388869, percent error 10.30\n",
      "Epoch    68, train loss 0.041594, train error 0.70,  val loss 0.396407, percent error 10.60\n",
      "Epoch    69, train loss 0.041396, train error 0.68,  val loss 0.399805, percent error 10.90\n",
      "Epoch    70, train loss 0.042343, train error 0.70,  val loss 0.392958, percent error 10.30\n",
      "Epoch    71, train loss 0.041027, train error 0.72,  val loss 0.406304, percent error 10.60\n",
      "Epoch    72, train loss 0.042435, train error 0.75,  val loss 0.408557, percent error 10.20\n",
      "Epoch    73, train loss 0.040528, train error 0.70,  val loss 0.410686, percent error 11.00\n",
      "Epoch    74, train loss 0.039652, train error 0.80,  val loss 0.398372, percent error 10.40\n",
      "Epoch    75, train loss 0.038294, train error 0.68,  val loss 0.403498, percent error 10.10\n",
      "Epoch    76, train loss 0.038228, train error 0.72,  val loss 0.397840, percent error 10.20\n",
      "Epoch    77, train loss 0.041038, train error 0.68,  val loss 0.398607, percent error 10.10\n",
      "Epoch    78, train loss 0.037951, train error 0.53,  val loss 0.410461, percent error 10.10\n",
      "Epoch    79, train loss 0.037841, train error 0.60,  val loss 0.409661, percent error 10.50\n",
      "Epoch    80, train loss 0.035903, train error 0.55,  val loss 0.410541, percent error 10.30\n",
      "Epoch    81, train loss 0.036432, train error 0.60,  val loss 0.410484, percent error 10.20\n",
      "Epoch    82, train loss 0.036666, train error 0.70,  val loss 0.407345, percent error 10.40\n",
      "Epoch    83, train loss 0.036517, train error 0.62,  val loss 0.406206, percent error 10.60\n",
      "Epoch    84, train loss 0.035573, train error 0.57,  val loss 0.411638, percent error 10.40\n",
      "Epoch    85, train loss 0.035167, train error 0.57,  val loss 0.416448, percent error 10.40\n",
      "Epoch    86, train loss 0.034744, train error 0.57,  val loss 0.411633, percent error 10.30\n",
      "Epoch    87, train loss 0.035105, train error 0.53,  val loss 0.416832, percent error 10.20\n",
      "Epoch    88, train loss 0.034393, train error 0.53,  val loss 0.414499, percent error 10.30\n",
      "Epoch    89, train loss 0.034457, train error 0.53,  val loss 0.412508, percent error 10.40\n",
      "Epoch    90, train loss 0.034319, train error 0.55,  val loss 0.418324, percent error 10.40\n",
      "Epoch    91, train loss 0.034430, train error 0.53,  val loss 0.420149, percent error 10.20\n",
      "Epoch    92, train loss 0.034065, train error 0.55,  val loss 0.422130, percent error 10.30\n",
      "Epoch    93, train loss 0.033913, train error 0.55,  val loss 0.417592, percent error 10.30\n",
      "Epoch    94, train loss 0.033210, train error 0.53,  val loss 0.417670, percent error 10.30\n",
      "Epoch    95, train loss 0.033544, train error 0.53,  val loss 0.416270, percent error 10.20\n",
      "Epoch    96, train loss 0.032937, train error 0.47,  val loss 0.421875, percent error 10.20\n",
      "Epoch    97, train loss 0.032786, train error 0.50,  val loss 0.420160, percent error 10.20\n",
      "Epoch    98, train loss 0.032712, train error 0.50,  val loss 0.418482, percent error 10.40\n",
      "Epoch    99, train loss 0.032946, train error 0.45,  val loss 0.421413, percent error 10.20\n"
     ]
    },
    {
     "data": {
      "image/png": "[encoded data removed]",
      "text/plain": [
       "<Figure size 640x480 with 1 Axes>"
      ]
     },
     "metadata": {},
     "output_type": "display_data"
    }
   ],
   "source": [
    "# choose cross entropy loss function (equation 5.24 in the loss notes)\n",
    "loss_function = nn.CrossEntropyLoss()\n",
    "# construct SGD optimizer and initialize learning rate and momentum\n",
    "optimizer = torch.optim.SGD(model.parameters(), lr = 0.05, momentum=0.9)\n",
    "# object that decreases learning rate by half every 20 epochs\n",
    "scheduler = StepLR(optimizer, step_size=20, gamma=0.5)\n",
    "# create 100 dummy data points and store in data loader class\n",
    "x_train = torch.tensor(train_data_x.transpose().astype('float32'))\n",
    "y_train = torch.tensor(train_data_y.astype('long')).long()\n",
    "x_val= torch.tensor(val_data_x.transpose().astype('float32'))\n",
    "y_val = torch.tensor(val_data_y.astype('long')).long()\n",
    "\n",
    "# load the data into a class that creates the batches\n",
    "data_loader = DataLoader(TensorDataset(x_train,y_train), batch_size=100, shuffle=True, worker_init_fn=np.random.seed(1))\n",
    "\n",
    "# Initialize model weights\n",
    "model.apply(weights_init)\n",
    "\n",
    "# loop over the dataset n_epoch times\n",
    "n_epoch = 100\n",
    "# store the loss and the % correct at each epoch\n",
    "losses_train = np.zeros((n_epoch))\n",
    "errors_train = np.zeros((n_epoch))\n",
    "losses_val = np.zeros((n_epoch))\n",
    "errors_val = np.zeros((n_epoch))\n",
    "\n",
    "for epoch in range(n_epoch):\n",
    "  # loop over batches\n",
    "  for i, data in enumerate(data_loader):\n",
    "    # retrieve inputs and labels for this batch\n",
    "    x_batch, y_batch = data\n",
    "    # zero the parameter gradients\n",
    "    optimizer.zero_grad()\n",
    "    # forward pass -- calculate model output\n",
    "    pred = model(x_batch[:,None,:])\n",
    "    # compute the loss\n",
    "    loss = loss_function(pred, y_batch)\n",
    "    # backward pass\n",
    "    loss.backward()\n",
    "    # SGD update\n",
    "    optimizer.step()\n",
    "\n",
    "  # Run whole dataset to get statistics -- normally wouldn't do this\n",
    "  pred_train = model(x_train[:,None,:])\n",
    "  pred_val = model(x_val[:,None,:])\n",
    "  _, predicted_train_class = torch.max(pred_train.data, 1)\n",
    "  _, predicted_val_class = torch.max(pred_val.data, 1)\n",
    "  errors_train[epoch] = 100 - 100 * (predicted_train_class == y_train).float().sum() / len(y_train)\n",
    "  errors_val[epoch]= 100 - 100 * (predicted_val_class == y_val).float().sum() / len(y_val)\n",
    "  losses_train[epoch] = loss_function(pred_train, y_train).item()\n",
    "  losses_val[epoch]= loss_function(pred_val, y_val).item()\n",
    "  print(f'Epoch {epoch:5d}, train loss {losses_train[epoch]:.6f}, train error {errors_train[epoch]:3.2f},  val loss {losses_val[epoch]:.6f}, percent error {errors_val[epoch]:3.2f}')\n",
    "\n",
    "  # tell scheduler to consider updating learning rate\n",
    "  scheduler.step()\n",
    "\n",
    "# Plot the results\n",
    "fig, ax = plt.subplots()\n",
    "ax.plot(errors_train,'r-',label='train')\n",
    "ax.plot(errors_val,'b-',label='validation')\n",
    "ax.set_ylim(0,100); ax.set_xlim(0,n_epoch)\n",
    "ax.set_xlabel('Epoch'); ax.set_ylabel('Error')\n",
    "ax.set_title('Part I: Validation Result %3.2f'%(errors_val[-1]))\n",
    "ax.legend()\n",
    "plt.show()"
   ]
  }
 ],
 "metadata": {
  "colab": {
   "authorship_tag": "ABX9TyNJodaaCLMRWL9vTl8B/iLI",
   "include_colab_link": true,
   "provenance": []
  },
  "kernelspec": {
   "display_name": "Python 3 (ipykernel)",
   "language": "python",
   "name": "python3"
  },
  "language_info": {
   "codemirror_mode": {
    "name": "ipython",
    "version": 3
   },
   "file_extension": ".py",
   "mimetype": "text/x-python",
   "name": "python",
   "nbconvert_exporter": "python",
   "pygments_lexer": "ipython3",
   "version": "3.11.5"
  }
 },
 "nbformat": 4,
 "nbformat_minor": 4
}
